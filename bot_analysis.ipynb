{
 "cells": [],
 "metadata": {
  "kernelspec": {
   "display_name": "grid_bot_project",
   "language": "python",
   "name": "python3"
  },
  "language_info": {
   "name": "python",
   "version": "3.12.4"
  }
 },
 "nbformat": 4,
 "nbformat_minor": 2
}
